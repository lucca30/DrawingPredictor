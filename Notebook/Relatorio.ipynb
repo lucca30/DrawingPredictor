{
 "cells": [
  {
   "cell_type": "markdown",
   "metadata": {},
   "source": [
    "# Drawing Predictor\n",
    "\n",
    "    Esse é o meu projeto final para a disciplina de Cáculo Numérico ministrada pelo Professor João Antonio Recio da Paixão no DCC-UFRJ em 2017.2 . O projeto era de livre escolha dos alunos, bastando apenas encaixar os métodos numéricos aprendidos em aula no problema a que fomos propostos em resolver. \n",
    "    O meu projeto consiste num preditor de desenhos, cujo objetivo é identificar o desenho realizado pelo usuário para que, então, possam ser corrigidas as imperfeições. Por exemplo, desenhar uma reta com um mouse não é um trabalho muito fácil, as chances de imperfeições são altas! No entanto, somos capazaes de entender que aquela reta, mesmo um pouco torta, é uma reta. Por que então o computador não prediz que o desenho era uma reta e então corrigi para um desenho de uma linha perfeita (algo que o computador faz muito bem).\n",
    "    \n",
    "   ## Motivo da escolha:\n",
    "    \n",
    "    Quando comecei a me interessar em Ciência de Dados e todos os seus ramos, encarei um problema ao tentar praticar o algoritmo de Regressão Linear: falta de dados bons e fáceis. Foi então que tive a ideia de gerar meus próprios dados! Nada melhor que um desenho, ou melhor, um conjunto de pares de pontos (x,y) com um forte apelo visual que facilitam a visualização dos dados e avaliação do modelo utilizado.\n",
    "    \n",
    "   ## Diretórios do projeto:\n",
    "   \n",
    "     Para facilitar o seu entendimento, particionei o projeto em 3 diretórios, dos quais:\n",
    "     \n",
    "   ### Dados\n",
    "   \n",
    "     Possui os dados que utilizarei aqui no notebook, além disso inclui uma ferramenta (coletor.py) que desenvolvi pra produzir os dados utilizados no estudo. Todos os dados foram produzidos no formato numpy, e consitem de um array contendo todos os pontos capturados no desenho pelo Coletor, ou seja, pares de (x, y) em um numpy array. Observe que este diretório está dentro do diretório Relatório, já que este será usado lá. \n",
    "     \n",
    "   ### Relatório\n",
    "   \n",
    "     A princípio apenas conterá um notebook (este que está lendo), e algumas ferramentas semi-completas de tentativas com alguns métodos, para que você possa interagir com o projeto.\n",
    "     \n",
    "   ### Software\n",
    "   \n",
    "     Como o projeto final é predizer desenhos, a ferramenta final e os arquivos que lhe acompanham estarão neste diretório. Note que as conclusões e o desenvolvimento numérico do projeto serão realizados no notebook, enquanto que no software apenas encontrará a implementação sem grandes explicações."
   ]
  },
  {
   "cell_type": "markdown",
   "metadata": {},
   "source": [
    "   ## Como funcionará o relatório\n",
    "   \n",
    "     Infelizmente não encontrei nenhuma forma de trazer o Canvas para o notebook, dessa forma, nossa interação será feita por meio de arquivos em python que deixarei neste diretório. No entanto, alguns dados que produzirei com o Coletor serão utilizadas e plotados aqui mesmo, então não é necessário interagir totalmente com os arquivos em python, apenas caso queira explorar melhor."
   ]
  },
  {
   "cell_type": "markdown",
   "metadata": {},
   "source": [
    "   ## Predizendo retas: acostumando-se com as manipulações\n",
    "   \n",
    "      Para iniciar, começarei com um desafio muito fácil: descrever a reta que melhor define um conjunto de pontos. Obviamente este método falha quando o usuário pretende desenhar curvas (o programa irá dizer uma reta, mas de fato não será uma boa predição). O método que utilizarei será o de mínimos quadrados. Dados um conjunto de pontos (x, y), quero descobrir a melhor reta y=Mx+C . Ou seja, meu objetivo é descobrir o melhor par (M, C) dado um conjunto de retas. Veja a seguir o exemplo que utilizarei e, finalmente, a primeira linha de código do notebook!"
   ]
  },
  {
   "cell_type": "code",
   "execution_count": 1,
   "metadata": {
    "scrolled": true
   },
   "outputs": [
    {
     "data": {
      "image/png": "[encoded data removed]",
      "text/plain": [
       "<matplotlib.figure.Figure at 0x7fb95004aac8>"
      ]
     },
     "metadata": {},
     "output_type": "display_data"
    }
   ],
   "source": [
    "import numpy as np\n",
    "import matplotlib.pyplot as plt\n",
    "\n",
    "dados = np.load(\"Dados/reta.npy\")\n",
    "dados_x = dados[:, 0]\n",
    "dados_y = dados[:, 1]\n",
    "plt.plot(dados_x, dados_y)\n",
    "plt.axis([0, 800, 0, 600])\n",
    "plt.show()"
   ]
  },
  {
   "cell_type": "markdown",
   "metadata": {},
   "source": [
    "    Para utilizarmos o método, temos que representar a equação da reta por meio do sistema Ax = y. Dessa forma, A será uma matriz de duas colunas e N linhas, onde N representa o número de pontos. Na primeira coluna teremos todos os valores de x para os pontos. Na segunda coluna temos sempre a constante 1, pois C sempre será multiplicada por 1. Já na matriz x, teremos os valores que queremos descobrir, ou seja, as constantes M e C. Em y teremos cada um dos valores de y para os pontos. Adotemos [t] ao lado de uma matriz como sendo sua transposta, e [-1] como sendo sua inversa.\n",
    "    Do método dos mínimos quadrados temos:\n",
    "        A.x = y\n",
    "        A[t].A.x = A[t].y\n",
    "        x = (A[t].A)[-1].A[t].y\n",
    "        \n",
    "    Disso descobrimos como obter a melhor aproximação para a matriz x."
   ]
  },
  {
   "cell_type": "code",
   "execution_count": 2,
   "metadata": {},
   "outputs": [
    {
     "name": "stdout",
     "output_type": "stream",
     "text": [
      "[   0.52803338  171.62196491]\n"
     ]
    }
   ],
   "source": [
    "from numpy.linalg import inv\n",
    "temp = []\n",
    "for i in range(0, dados_x.shape[0]):\n",
    "    temp.append(1)\n",
    "\n",
    "A = np.column_stack((dados_x,np.array(temp)))\n",
    "y = dados_y.transpose()\n",
    "A_t = A.transpose()\n",
    "\n",
    "reduzida = np.dot(A_t, A)\n",
    "inv_reduzida = inv(reduzida)\n",
    "\n",
    "x = np.dot(np.dot(inv_reduzida, A_t), y)\n",
    "print(x)\n",
    "M = x[0]\n",
    "C = x[1]"
   ]
  },
  {
   "cell_type": "code",
   "execution_count": 3,
   "metadata": {},
   "outputs": [
    {
     "data": {
      "image/png": "[encoded data removed]",
      "text/plain": [
       "<matplotlib.figure.Figure at 0x7fb9297e3860>"
      ]
     },
     "metadata": {},
     "output_type": "display_data"
    }
   ],
   "source": [
    "def reta(x):\n",
    "    return M*x+C\n",
    "x_min = x_max = dados_x[0]\n",
    "for i in dados_x:\n",
    "    x_min = min(x_min, i)\n",
    "    x_max = max(x_max, i)\n",
    "\n",
    "plt.plot(dados_x, dados_y)\n",
    "plt.plot(range(x_min, x_max+1), reta(range(x_min, x_max+1)))\n",
    "plt.axis([0, 800, 0, 600])\n",
    "plt.show()"
   ]
  },
  {
   "cell_type": "markdown",
   "metadata": {},
   "source": [
    "   ## PredReta.py\n",
    "   \n",
    "    Finalmente temos a primeira versão do software para que você teste. Basta ir no diretório software e executar predReta.py . Lá, basta desenhar um conjunto de pontos e, ao apertar qualquer botão do teclado, ele irá predizer a melhor reta para descrever o desenho. Observe que nessa versão ainda deixo o registro do seu desenho, para que possa fazer comparações entre o resultado e o desenho. Algumas das falhas dessa versão:\n",
    "    - Prediz somente retas\n",
    "    - Algumas falhas pra predizer retas muito íngrimes, já que o intervalo de plot é determinado pelo intervalo de x no desenho, o que em desenhos íngrimes resulta em uma falha no range de y (que importa mais nesse caso)\n",
    "    - Erro de execução caso todos os pontos desenhados possuam o mesmo valor de x"
   ]
  },
  {
   "cell_type": "markdown",
   "metadata": {},
   "source": [
    "   ## Prevendo curvas com polinômios\n",
    "   \n",
    "       Para isso, vamos relembrar o método dos mínimos quadrados. Basicamente, tínhamos uma matriz A, com uma coluna tendo os valores de x nos pontos, e outra com 1 (x^0). Para expandirmos o método para um polinômio de grau N, basta colocarmos N+1 colunas. Onde cada nova coluna inserida seja um grau maior do valor de x naquele ponto. \n",
    "       A = [ [X^N, X^(N-1), X^(N-2)..., X^(1), X^(0)], ...]\n",
    "       A matriz y continua a mesma, no entando, a matriz x, que é o resultado, terá dimensão N+1x1, que são os coeficientes do polinômio. Como pretendo aperfeiçoar um sistema para realizar interpolações, de início iremos trabalhar aceitando polinômios de grau 10 (para que várias curvas sejam aceitas), mas depois a pretensão é reduzir para no máximo grau 5 (embora creio que 2 já seja suficiente, mas isso deixaremos pra discutir depois).\n",
    "       \n",
    "       Vamos ao trabalho! Primeiro, gostaria de apresentar os desenhos que iremos usar nesse etapa."
   ]
  },
  {
   "cell_type": "code",
   "execution_count": 4,
   "metadata": {},
   "outputs": [
    {
     "data": {
      "image/png": "[encoded data removed]",
      "text/plain": [
       "<matplotlib.figure.Figure at 0x7fb929801ef0>"
      ]
     },
     "metadata": {},
     "output_type": "display_data"
    }
   ],
   "source": [
    "dados = np.load(\"Dados/polinomio.npy\")\n",
    "dados_x = dados[:, 0]\n",
    "dados_y = dados[:, 1]\n",
    "plt.plot(dados_x, dados_y)\n",
    "\n",
    "dados = np.load(\"Dados/semi_circ.npy\")\n",
    "dados_x = dados[:, 0]\n",
    "dados_y = dados[:, 1]\n",
    "plt.plot(dados_x, dados_y)\n",
    "\n",
    "dados = np.load(\"Dados/pao_acucar.npy\")\n",
    "dados_x = dados[:, 0]\n",
    "dados_y = dados[:, 1]\n",
    "plt.plot(dados_x, dados_y)\n",
    "\n",
    "plt.axis([0, 800, 0, 600])\n",
    "plt.show()"
   ]
  },
  {
   "cell_type": "markdown",
   "metadata": {},
   "source": [
    "    A primeira coisa importante a se entender é: estou desenhando mal apenas para que o computador possa aperfeiçoar, pois sou um talentoso artista com mãos habilidosas.\n",
    "    \n",
    "    Descrevendo um pouco melhor as curvas, a azul se trata literalmente de um polinômio, a laranja de uma semi-circunferência (pois quero ver o quão bom uma curva pode ser representada sem o uso de raiz) e finalmente a curva mais \"prática\" até agora. No rabisco verde minha intenção era representar essa imagem:\n",
    "    \n",
    " ![alt text](pao_acucar.jpg \"Pão de Açúcar\")\n",
    " \n",
    "     Sem mais delongas vamos definir o método!"
   ]
  },
  {
   "cell_type": "code",
   "execution_count": 36,
   "metadata": {},
   "outputs": [],
   "source": [
    "\n",
    "def pred_polinomio(dados, n): #conjunto de pontos, grau do polinômio\n",
    "    temp = []\n",
    "    for i in range(0, n+1):\n",
    "        temp.append([])\n",
    "    for i in range(0, n+1):\n",
    "        for j in range(0, dados.shape[0]):\n",
    "            temp[i].append(dados[j, 0]**i)\n",
    "\n",
    "    A = np.array(temp).transpose()\n",
    "    y = dados[:, 1].transpose()\n",
    "    A_t = np.array(temp)\n",
    "\n",
    "    reduzida = np.dot(A_t, A)\n",
    "    inv_reduzida = inv(reduzida)\n",
    "    \n",
    "    x = np.dot(np.dot(inv_reduzida, A_t), y)\n",
    "    return x\n",
    "\n",
    "def calc_polinomio(x, coef):\n",
    "    result = 0\n",
    "    for i in range(0, coef.shape[0]):\n",
    "        result+= np.power(x, i) * coef[i]\n",
    "    return result"
   ]
  },
  {
   "cell_type": "markdown",
   "metadata": {},
   "source": [
    "    Peço agora sua interação com o projeto, marquei com #1 e #2 as linhas que gostaria que fossem alteradas por você, para que veja os resultados produzidos. Aqui vão as opções possíveis: \n",
    "    #1 -> \"Dados/polinomio.npy\" ou \"Dados/semi_circ.npy\" \"Dados/pao_acucar.npy\" \"Dados/reta.npy\"\n",
    "    #2 -> o grau do polinômio\n",
    "    \n",
    "    Ah, e para excutar uma célula, basta apenas apertar ctrl+enter, depois de selecioná-la"
   ]
  },
  {
   "cell_type": "code",
   "execution_count": 81,
   "metadata": {},
   "outputs": [
    {
     "data": {
      "image/png": "[encoded data removed]",
      "text/plain": [
       "<matplotlib.figure.Figure at 0x7fb9292f82b0>"
      ]
     },
     "metadata": {},
     "output_type": "display_data"
    }
   ],
   "source": [
    "dados = np.load(\"Dados/semi_circ.npy\") #1\n",
    "coef = pred_polinomio(dados, 4) #2\n",
    "\n",
    "x_min = x_max = dados[0,0]\n",
    "for i in dados[:, 0]:\n",
    "    x_min = min(x_min, i)\n",
    "    x_max = max(x_max, i)\n",
    "plt.plot(dados[:, 0], dados[:, 1])\n",
    "plt.plot(range(x_min, x_max+1), calc_polinomio(range(x_min, x_max+1), coef))\n",
    "plt.axis([0, 800, 0, 600])\n",
    "plt.show()"
   ]
  },
  {
   "cell_type": "markdown",
   "metadata": {},
   "source": [
    "    Confesso que agora fui surpreendido com a ineficiência do método para graus elevados. Pelo que pesquisei, para buscar eficiência, a biblioteca numpy limita suas operações a números de no máximo 64 bits, como não suporta Bigintegers, e os números variam entre 0 800, basta ver que 800**5 ~= 10**14, dessa forma levando em conta ainda as operaçãoes de inversa na matriz e produtos matricias, o limite deve estourar e a precisão deve ser perdida. Ao que parece, polinômios com grau maior que 4 são inviáveis por conta da capacidade computacional (e não por causa da complexidade de tempo, como havia pensado!).\n",
    "    \n",
    "    Desse experimento conclui que a interpolação será mais necessária do que havia pensado. Além de ficar bem desapontado de não obter um resultado satisfatório para o desenho do pão de açúcar (agora temos uma meta para o decorrer do projeto!)."
   ]
  }
 ],
 "metadata": {
  "anaconda-cloud": {},
  "kernelspec": {
   "display_name": "Python [conda env:PDSH]",
   "language": "python",
   "name": "conda-env-PDSH-py"
  },
  "language_info": {
   "codemirror_mode": {
    "name": "ipython",
    "version": 3
   },
   "file_extension": ".py",
   "mimetype": "text/x-python",
   "name": "python",
   "nbconvert_exporter": "python",
   "pygments_lexer": "ipython3",
   "version": "3.5.4"
  }
 },
 "nbformat": 4,
 "nbformat_minor": 1
}
