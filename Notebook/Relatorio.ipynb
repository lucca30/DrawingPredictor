{
 "cells": [
  {
   "cell_type": "markdown",
   "metadata": {},
   "source": [
    "# Drawing Predictor\n",
    "\n",
    "    Esse é o meu projeto final para a disciplina de Cáculo Numérico ministrada pelo Professor João Antonio Recio da Paixão no DCC-UFRJ em 2017.2 . O projeto era de livre escolha dos alunos, bastando apenas encaixar os métodos numéricos aprendidos em aula no problema a que fomos propostos em resolver. \n",
    "    O meu projeto consiste num preditor de desenhos, cujo objetivo é identificar o desenho realizado pelo usuário para que, então, possam ser corrigidas as imperfeições. Por exemplo, desenhar uma reta com um mouse não é um trabalho muito fácil, as chances de imperfeições são altas! No entanto, somos capazaes de entender que aquela reta, mesmo um pouco torta, é uma reta. Por que então o computador não prediz que o desenho era uma reta e então corrigi para um desenho de uma linha perfeita (algo que o computador faz muito bem).\n",
    "    \n",
    "   ## Motivo da escolha:\n",
    "    \n",
    "    Quando comecei a me interessar em Ciência de Dados e todos os seus ramos, encarei um problema ao tentar praticar o algoritmo de Regressão Linear: falta de dados bons e fáceis. Foi então que tive a ideia de gerar meus próprios dados! Nada melhor que um desenho, ou melhor, um conjunto de pares de pontos (x,y) com um forte apelo visual que facilitam a visualização dos dados e avaliação do modelo utilizado.\n",
    "    \n",
    "   ## Diretórios do projeto:\n",
    "   \n",
    "     Para facilitar o seu entendimento, particionei o projeto em 3 diretórios, dos quais:\n",
    "     \n",
    "   ### Dados\n",
    "   \n",
    "     Possui os dados que utilizarei aqui no notebook, além disso inclui uma ferramenta (coletor.py) que desenvolvi pra produzir os dados utilizados no estudo. Todos os dados foram produzidos no formato numpy, e consitem de um array contendo todos os pontos capturados no desenho pelo Coletor, ou seja, pares de (x, y) em um numpy array. Observe que este diretório está dentro do diretório Relatório, já que este será usado lá. \n",
    "     \n",
    "   ### Relatório\n",
    "   \n",
    "     A princípio apenas conterá um notebook (este que está lendo), e algumas ferramentas semi-completas de tentativas com alguns métodos, para que você possa interagir com o projeto.\n",
    "     \n",
    "   ### Software\n",
    "   \n",
    "     Como o projeto final é predizer desenhos, a ferramenta final e os arquivos que lhe acompanham estarão neste diretório. Note que as conclusões e o desenvolvimento numérico do projeto serão realizados no notebook, enquanto que no software apenas encontrará a implementação sem grandes explicações."
   ]
  },
  {
   "cell_type": "markdown",
   "metadata": {},
   "source": [
    "   ## Como funcionará o relatório\n",
    "   \n",
    "     Infelizmente não encontrei nenhuma forma de trazer o Canvas para o notebook, dessa forma, nossa interação será feita por meio de arquivos em python que deixarei neste diretório. No entanto, alguns dados que produzirei com o Coletor serão utilizadas e plotados aqui mesmo, então não é necessário interagir totalmente com os arquivos em python, apenas caso queira explorar melhor."
   ]
  },
  {
   "cell_type": "markdown",
   "metadata": {},
   "source": [
    "   ## Predizendo retas: acostumando-se com as manipulações\n",
    "   \n",
    "      Para iniciar, começarei com um desafio muito fácil: descrever a reta que melhor define um conjunto de pontos. Obviamente este método falha quando o usuário pretende desenhar curvas (o programa irá dizer uma reta, mas de fato não será uma boa predição). O método que utilizarei será o de mínimos quadrados. Dados um conjunto de pontos (x, y), quero descobrir a melhor reta y=Mx+C . Ou seja, meu objetivo é descobrir o melhor par (M, C) dado um conjunto de retas. Veja a seguir o exemplo que utilizarei e, finalmente, a primeira linha de código do notebook!"
   ]
  },
  {
   "cell_type": "code",
   "execution_count": 1,
   "metadata": {},
   "outputs": [
    {
     "data": {
      "image/png": "[encoded data removed]",
      "text/plain": [
       "<matplotlib.figure.Figure at 0x7fda5c2e0be0>"
      ]
     },
     "metadata": {},
     "output_type": "display_data"
    }
   ],
   "source": [
    "import numpy as np\n",
    "import matplotlib.pyplot as plt\n",
    "\n",
    "dados = np.load(\"Dados/reta.npy\")\n",
    "dados_x = dados[:, 0]\n",
    "dados_y = dados[:, 1]\n",
    "plt.plot(dados_x, dados_y)\n",
    "plt.axis([0, 800, 0, 600])\n",
    "plt.show()"
   ]
  },
  {
   "cell_type": "markdown",
   "metadata": {},
   "source": [
    "    Para utilizarmos o método, temos que representar a equação da reta por meio do sistema Ax = y. Dessa forma, A será uma matriz de duas colunas e N linhas, onde N representa o número de pontos. Na primeira coluna teremos todos os valores de x para os pontos. Na segunda coluna temos sempre a constante 1, pois C sempre será multiplicada por 1. Já na matriz x, teremos os valores que queremos descobrir, ou seja, as constantes M e C. Em y teremos cada um dos valores de y para os pontos. Adotemos [t] ao lado de uma matriz como sendo sua transposta, e [-1] como sendo sua inversa.\n",
    "    Do método dos mínimos quadrados temos:\n",
    "        A.x = y\n",
    "        A[t].A.x = A[t].y\n",
    "        x = (A[t].A)[-1].A[t].y\n",
    "        \n",
    "    Disso descobrimos como obter a melhor aproximação para a matriz x."
   ]
  },
  {
   "cell_type": "code",
   "execution_count": 27,
   "metadata": {},
   "outputs": [
    {
     "name": "stdout",
     "output_type": "stream",
     "text": [
      "[   0.52803338  171.62196491]\n"
     ]
    }
   ],
   "source": [
    "from numpy.linalg import inv\n",
    "temp = []\n",
    "for i in range(0, dados_x.shape[0]):\n",
    "    temp.append(1)\n",
    "\n",
    "A = np.column_stack((dados_x,np.array(temp)))\n",
    "y = dados_y.transpose()\n",
    "A_t = A.transpose()\n",
    "\n",
    "reduzida = np.dot(A_t, A)\n",
    "inv_reduzida = inv(reduzida)\n",
    "\n",
    "x = np.dot(np.dot(inv_reduzida, A_t), y)\n",
    "print(x)\n",
    "M = x[0]\n",
    "C = x[1]"
   ]
  },
  {
   "cell_type": "code",
   "execution_count": 31,
   "metadata": {},
   "outputs": [
    {
     "data": {
      "image/png": "[encoded data removed]",
      "text/plain": [
       "<matplotlib.figure.Figure at 0x7fda371294a8>"
      ]
     },
     "metadata": {},
     "output_type": "display_data"
    }
   ],
   "source": [
    "def reta(x):\n",
    "    return M*x+C\n",
    "x_min = x_max = dados_x[0]\n",
    "for i in dados_x:\n",
    "    x_min = min(x_min, i)\n",
    "    x_max = max(x_max, i)\n",
    "\n",
    "plt.plot(dados_x, dados_y)\n",
    "plt.plot(range(x_min, x_max+1), reta(range(x_min, x_max+1)))\n",
    "plt.axis([0, 800, 0, 600])\n",
    "plt.show()"
   ]
  }
 ],
 "metadata": {
  "anaconda-cloud": {},
  "kernelspec": {
   "display_name": "Python [conda env:PDSH]",
   "language": "python",
   "name": "conda-env-PDSH-py"
  },
  "language_info": {
   "codemirror_mode": {
    "name": "ipython",
    "version": 3
   },
   "file_extension": ".py",
   "mimetype": "text/x-python",
   "name": "python",
   "nbconvert_exporter": "python",
   "pygments_lexer": "ipython3",
   "version": "3.5.4"
  }
 },
 "nbformat": 4,
 "nbformat_minor": 1
}
